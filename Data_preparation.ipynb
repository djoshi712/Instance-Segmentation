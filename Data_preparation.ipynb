{
 "cells": [
  {
   "cell_type": "code",
   "execution_count": 4,
   "metadata": {},
   "outputs": [],
   "source": [
    "# prepare custom dataset\n",
    "# resize images\n",
    "import os\n",
    "import shutil\n",
    "import cv2\n",
    "source= os.listdir('D:/try/fracture_ds/cropped_resized/train')\n",
    "for img in source:\n",
    "    \n",
    "    file=os.path.join('D:/try/fracture_ds/cropped_resized/train',img)\n",
    "    image = cv2.imread(file)\n",
    "\n",
    "    new_image = cv2.resize(image, (800, 600)) \n",
    "#     cv2.imwrite(new_image, new)\n",
    "    cv2.imwrite('D:/try/fracture_ds/cropped_resized/test/'+ img , new_image)"
   ]
  },
  {
   "cell_type": "code",
   "execution_count": null,
   "metadata": {},
   "outputs": [
    {
     "name": "stdout",
     "output_type": "stream",
     "text": [
      "1481 1481\n"
     ]
    }
   ],
   "source": [
    "label datasetD:/Phd/dataset/images\n",
    "import os\n",
    "import shutil\n",
    "import cv2\n",
    "path= 'D:/try/crack_dataset/train'\n",
    "lst= os.listdir(path)\n",
    "new_lst=[img.rstrip('.json')+'.jpg' for img in lst]\n",
    "dest= os.listdir('D:/try/crack_dataset/train_original')\n",
    "print(len(dest))\n",
    "\n",
    "final=[]\n",
    "    \n",
    "for each in new_lst: \n",
    "    if each in dest:\n",
    "        i=dest.index(each)\n",
    "        final.append(dest[i])\n",
    "print(dest[:5])        \n",
    "print(new_lst[:5])              \n",
    "print(final[:5])\n",
    "\n",
    "print(len(new_lst), len(final))\n",
    "for img in final:\n",
    "    file=os.path.join('D:/try/crack_dataset/train_original/',img)\n",
    "    shutil.copy(file,'D:/try/crack_dataset/train')"
   ]
  },
  {
   "cell_type": "code",
   "execution_count": null,
   "metadata": {},
   "outputs": [],
   "source": []
  }
 ],
 "metadata": {
  "kernelspec": {
   "display_name": "Python 3",
   "language": "python",
   "name": "python3"
  },
  "language_info": {
   "codemirror_mode": {
    "name": "ipython",
    "version": 3
   },
   "file_extension": ".py",
   "mimetype": "text/x-python",
   "name": "python",
   "nbconvert_exporter": "python",
   "pygments_lexer": "ipython3",
   "version": "3.6.8"
  }
 },
 "nbformat": 4,
 "nbformat_minor": 2
}
